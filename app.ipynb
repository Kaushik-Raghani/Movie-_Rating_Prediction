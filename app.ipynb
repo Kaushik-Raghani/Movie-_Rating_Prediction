{
 "cells": [
  {
   "cell_type": "code",
   "execution_count": 1,
   "metadata": {},
   "outputs": [],
   "source": [
    "import pandas as pd\n",
    "import requests"
   ]
  },
  {
   "cell_type": "code",
   "execution_count": 5,
   "metadata": {},
   "outputs": [
    {
     "name": "stdout",
     "output_type": "stream",
     "text": [
      "Fetching data from page 1\n",
      "Fetching data from page 2\n",
      "Fetching data from page 3\n",
      "Fetching data from page 4\n",
      "Fetching data from page 5\n",
      "Fetching data from page 6\n",
      "Fetching data from page 7\n",
      "Fetching data from page 8\n",
      "Fetching data from page 9\n",
      "Fetching data from page 10\n",
      "Movie dataset has been created successfully.\n"
     ]
    }
   ],
   "source": [
    "api_key = \"d35ce2b0877171b92857991dda69b375\"\n",
    "\n",
    "def fetch_data(api_key, page_limit=10):\n",
    "    all_movies = []\n",
    "\n",
    "    for page in range(1, page_limit + 1):\n",
    "        print(f\"Fetching data from page {page}\")\n",
    "        url = f\"https://api.themoviedb.org/3/movie/popular?api_key={api_key}&language=en-US&page={page}\"\n",
    "        response = requests.get(url)\n",
    "\n",
    "        if response.status_code != 200:\n",
    "            print(f\"Failed to fetch page {page}: {response.status_code}\")\n",
    "            continue\n",
    "        \n",
    "        results = response.json().get(\"results\", [])\n",
    "\n",
    "        for movie in results:\n",
    "            try:\n",
    "                movie_id = movie['id']\n",
    "                details_url = f\"https://api.themoviedb.org/3/movie/{movie_id}?api_key={api_key}&append_to_response=credits\"\n",
    "                details_response = requests.get(details_url).json()\n",
    "\n",
    "                title = details_response.get(\"title\", \"\")\n",
    "                genres = \", \".join([g['name'] for g in details_response.get(\"genres\", [])])\n",
    "                synopsis = details_response.get(\"overview\", \"\")\n",
    "                rating = details_response.get(\"vote_average\", 0)\n",
    "\n",
    "                credits = details_response.get(\"credits\", {})\n",
    "                cast = credits.get(\"cast\", [])\n",
    "                crew = credits.get(\"crew\", [])\n",
    "\n",
    "                actors = \", \".join([person['name'] for person in cast[:3]])\n",
    "                directors = \", \".join([person['name'] for person in crew if person['job'] == \"Director\"])\n",
    "\n",
    "                all_movies.append({\n",
    "                    'title': title,\n",
    "                    'genres': genres,\n",
    "                    'actors': actors,\n",
    "                    'directors': directors,\n",
    "                    'synopsis': synopsis,\n",
    "                    'rating': rating\n",
    "                })\n",
    "\n",
    "            except Exception as e:\n",
    "                print(f\"Error in fetching data for movie id {movie_id}: {e}\")\n",
    "                continue\n",
    "\n",
    "    return pd.DataFrame(all_movies)\n",
    "\n",
    "# Fetch movie data and save to CSV\n",
    "movie_df = fetch_data(api_key, page_limit=10)\n",
    "movie_df.to_csv('movies_dataset.csv', index=False)\n",
    "print(\"Movie dataset has been created successfully.\")\n"
   ]
  },
  {
   "cell_type": "code",
   "execution_count": 6,
   "metadata": {},
   "outputs": [
    {
     "name": "stderr",
     "output_type": "stream",
     "text": [
      "c:\\Users\\KAUSHIK\\OneDrive\\Desktop\\python\\Movie Rating\\venv\\Lib\\site-packages\\tqdm\\auto.py:21: TqdmWarning: IProgress not found. Please update jupyter and ipywidgets. See https://ipywidgets.readthedocs.io/en/stable/user_install.html\n",
      "  from .autonotebook import tqdm as notebook_tqdm\n"
     ]
    }
   ],
   "source": [
    "import numpy as np\n",
    "from sklearn.model_selection import train_test_split\n",
    "from sklearn.metrics import mean_squared_error,r2_score\n",
    "from xgboost import XGBRegressor\n",
    "from sentence_transformers import SentenceTransformer\n",
    "import pickle"
   ]
  },
  {
   "cell_type": "code",
   "execution_count": 7,
   "metadata": {},
   "outputs": [
    {
     "data": {
      "text/html": [
       "<div>\n",
       "<style scoped>\n",
       "    .dataframe tbody tr th:only-of-type {\n",
       "        vertical-align: middle;\n",
       "    }\n",
       "\n",
       "    .dataframe tbody tr th {\n",
       "        vertical-align: top;\n",
       "    }\n",
       "\n",
       "    .dataframe thead th {\n",
       "        text-align: right;\n",
       "    }\n",
       "</style>\n",
       "<table border=\"1\" class=\"dataframe\">\n",
       "  <thead>\n",
       "    <tr style=\"text-align: right;\">\n",
       "      <th></th>\n",
       "      <th>title</th>\n",
       "      <th>genres</th>\n",
       "      <th>actors</th>\n",
       "      <th>directors</th>\n",
       "      <th>synopsis</th>\n",
       "      <th>rating</th>\n",
       "    </tr>\n",
       "  </thead>\n",
       "  <tbody>\n",
       "    <tr>\n",
       "      <th>0</th>\n",
       "      <td>Sonic the Hedgehog 3</td>\n",
       "      <td>Action, Science Fiction, Comedy, Family</td>\n",
       "      <td>Jim Carrey, Ben Schwartz, Keanu Reeves</td>\n",
       "      <td>Jeff Fowler</td>\n",
       "      <td>Sonic, Knuckles, and Tails reunite against a p...</td>\n",
       "      <td>7.775</td>\n",
       "    </tr>\n",
       "    <tr>\n",
       "      <th>1</th>\n",
       "      <td>Kraven the Hunter</td>\n",
       "      <td>Action, Adventure, Thriller</td>\n",
       "      <td>Aaron Taylor-Johnson, Ariana DeBose, Fred Hech...</td>\n",
       "      <td>J.C. Chandor</td>\n",
       "      <td>Kraven Kravinoff's complex relationship with h...</td>\n",
       "      <td>6.602</td>\n",
       "    </tr>\n",
       "    <tr>\n",
       "      <th>2</th>\n",
       "      <td>Moana 2</td>\n",
       "      <td>Animation, Adventure, Family, Comedy</td>\n",
       "      <td>Auliʻi Cravalho, Dwayne Johnson, Hualālai Chung</td>\n",
       "      <td>David G. Derrick Jr., Jason Hand, Dana Ledoux ...</td>\n",
       "      <td>After receiving an unexpected call from her wa...</td>\n",
       "      <td>7.219</td>\n",
       "    </tr>\n",
       "    <tr>\n",
       "      <th>3</th>\n",
       "      <td>Back in Action</td>\n",
       "      <td>Action, Comedy</td>\n",
       "      <td>Cameron Diaz, Jamie Foxx, McKenna Roberts</td>\n",
       "      <td>Seth Gordon</td>\n",
       "      <td>Fifteen years after vanishing from the CIA to ...</td>\n",
       "      <td>6.626</td>\n",
       "    </tr>\n",
       "    <tr>\n",
       "      <th>4</th>\n",
       "      <td>Mufasa: The Lion King</td>\n",
       "      <td>Adventure, Family, Animation</td>\n",
       "      <td>Aaron Pierre, Kelvin Harrison Jr., Tiffany Boone</td>\n",
       "      <td>Barry Jenkins</td>\n",
       "      <td>Mufasa, a cub lost and alone, meets a sympathe...</td>\n",
       "      <td>7.425</td>\n",
       "    </tr>\n",
       "  </tbody>\n",
       "</table>\n",
       "</div>"
      ],
      "text/plain": [
       "                   title                                   genres  \\\n",
       "0   Sonic the Hedgehog 3  Action, Science Fiction, Comedy, Family   \n",
       "1      Kraven the Hunter              Action, Adventure, Thriller   \n",
       "2                Moana 2     Animation, Adventure, Family, Comedy   \n",
       "3         Back in Action                           Action, Comedy   \n",
       "4  Mufasa: The Lion King             Adventure, Family, Animation   \n",
       "\n",
       "                                              actors  \\\n",
       "0             Jim Carrey, Ben Schwartz, Keanu Reeves   \n",
       "1  Aaron Taylor-Johnson, Ariana DeBose, Fred Hech...   \n",
       "2    Auliʻi Cravalho, Dwayne Johnson, Hualālai Chung   \n",
       "3          Cameron Diaz, Jamie Foxx, McKenna Roberts   \n",
       "4   Aaron Pierre, Kelvin Harrison Jr., Tiffany Boone   \n",
       "\n",
       "                                           directors  \\\n",
       "0                                        Jeff Fowler   \n",
       "1                                       J.C. Chandor   \n",
       "2  David G. Derrick Jr., Jason Hand, Dana Ledoux ...   \n",
       "3                                        Seth Gordon   \n",
       "4                                      Barry Jenkins   \n",
       "\n",
       "                                            synopsis  rating  \n",
       "0  Sonic, Knuckles, and Tails reunite against a p...   7.775  \n",
       "1  Kraven Kravinoff's complex relationship with h...   6.602  \n",
       "2  After receiving an unexpected call from her wa...   7.219  \n",
       "3  Fifteen years after vanishing from the CIA to ...   6.626  \n",
       "4  Mufasa, a cub lost and alone, meets a sympathe...   7.425  "
      ]
     },
     "execution_count": 7,
     "metadata": {},
     "output_type": "execute_result"
    }
   ],
   "source": [
    "data = pd.read_csv(\"movies_dataset.csv\")\n",
    "data.fillna('',inplace=True)\n",
    "data.head()"
   ]
  },
  {
   "cell_type": "code",
   "execution_count": 13,
   "metadata": {},
   "outputs": [],
   "source": [
    "avg_actor_rating = data.groupby('actors')['rating'].mean().to_dict()\n",
    "avg_director_rating = data.groupby('directors')['rating'].mean().to_dict()\n",
    "\n",
    "data['avg_actor_rating'] = data['actors'].map(avg_actor_rating)\n",
    "data['avg_director_rating'] = data['directors'].map(avg_director_rating)"
   ]
  },
  {
   "cell_type": "code",
   "execution_count": 14,
   "metadata": {},
   "outputs": [
    {
     "data": {
      "text/html": [
       "<div>\n",
       "<style scoped>\n",
       "    .dataframe tbody tr th:only-of-type {\n",
       "        vertical-align: middle;\n",
       "    }\n",
       "\n",
       "    .dataframe tbody tr th {\n",
       "        vertical-align: top;\n",
       "    }\n",
       "\n",
       "    .dataframe thead th {\n",
       "        text-align: right;\n",
       "    }\n",
       "</style>\n",
       "<table border=\"1\" class=\"dataframe\">\n",
       "  <thead>\n",
       "    <tr style=\"text-align: right;\">\n",
       "      <th></th>\n",
       "      <th>title</th>\n",
       "      <th>genres</th>\n",
       "      <th>actors</th>\n",
       "      <th>directors</th>\n",
       "      <th>synopsis</th>\n",
       "      <th>rating</th>\n",
       "      <th>avg_actor_rating</th>\n",
       "      <th>avg_director_rating</th>\n",
       "    </tr>\n",
       "  </thead>\n",
       "  <tbody>\n",
       "    <tr>\n",
       "      <th>0</th>\n",
       "      <td>Sonic the Hedgehog 3</td>\n",
       "      <td>Action, Science Fiction, Comedy, Family</td>\n",
       "      <td>Jim Carrey, Ben Schwartz, Keanu Reeves</td>\n",
       "      <td>Jeff Fowler</td>\n",
       "      <td>Sonic, Knuckles, and Tails reunite against a p...</td>\n",
       "      <td>7.775</td>\n",
       "      <td>7.775</td>\n",
       "      <td>7.521667</td>\n",
       "    </tr>\n",
       "    <tr>\n",
       "      <th>1</th>\n",
       "      <td>Kraven the Hunter</td>\n",
       "      <td>Action, Adventure, Thriller</td>\n",
       "      <td>Aaron Taylor-Johnson, Ariana DeBose, Fred Hech...</td>\n",
       "      <td>J.C. Chandor</td>\n",
       "      <td>Kraven Kravinoff's complex relationship with h...</td>\n",
       "      <td>6.602</td>\n",
       "      <td>6.602</td>\n",
       "      <td>6.602000</td>\n",
       "    </tr>\n",
       "    <tr>\n",
       "      <th>2</th>\n",
       "      <td>Moana 2</td>\n",
       "      <td>Animation, Adventure, Family, Comedy</td>\n",
       "      <td>Auliʻi Cravalho, Dwayne Johnson, Hualālai Chung</td>\n",
       "      <td>David G. Derrick Jr., Jason Hand, Dana Ledoux ...</td>\n",
       "      <td>After receiving an unexpected call from her wa...</td>\n",
       "      <td>7.219</td>\n",
       "      <td>7.219</td>\n",
       "      <td>7.219000</td>\n",
       "    </tr>\n",
       "    <tr>\n",
       "      <th>3</th>\n",
       "      <td>Back in Action</td>\n",
       "      <td>Action, Comedy</td>\n",
       "      <td>Cameron Diaz, Jamie Foxx, McKenna Roberts</td>\n",
       "      <td>Seth Gordon</td>\n",
       "      <td>Fifteen years after vanishing from the CIA to ...</td>\n",
       "      <td>6.626</td>\n",
       "      <td>6.626</td>\n",
       "      <td>6.626000</td>\n",
       "    </tr>\n",
       "    <tr>\n",
       "      <th>4</th>\n",
       "      <td>Mufasa: The Lion King</td>\n",
       "      <td>Adventure, Family, Animation</td>\n",
       "      <td>Aaron Pierre, Kelvin Harrison Jr., Tiffany Boone</td>\n",
       "      <td>Barry Jenkins</td>\n",
       "      <td>Mufasa, a cub lost and alone, meets a sympathe...</td>\n",
       "      <td>7.425</td>\n",
       "      <td>7.425</td>\n",
       "      <td>7.425000</td>\n",
       "    </tr>\n",
       "  </tbody>\n",
       "</table>\n",
       "</div>"
      ],
      "text/plain": [
       "                   title                                   genres  \\\n",
       "0   Sonic the Hedgehog 3  Action, Science Fiction, Comedy, Family   \n",
       "1      Kraven the Hunter              Action, Adventure, Thriller   \n",
       "2                Moana 2     Animation, Adventure, Family, Comedy   \n",
       "3         Back in Action                           Action, Comedy   \n",
       "4  Mufasa: The Lion King             Adventure, Family, Animation   \n",
       "\n",
       "                                              actors  \\\n",
       "0             Jim Carrey, Ben Schwartz, Keanu Reeves   \n",
       "1  Aaron Taylor-Johnson, Ariana DeBose, Fred Hech...   \n",
       "2    Auliʻi Cravalho, Dwayne Johnson, Hualālai Chung   \n",
       "3          Cameron Diaz, Jamie Foxx, McKenna Roberts   \n",
       "4   Aaron Pierre, Kelvin Harrison Jr., Tiffany Boone   \n",
       "\n",
       "                                           directors  \\\n",
       "0                                        Jeff Fowler   \n",
       "1                                       J.C. Chandor   \n",
       "2  David G. Derrick Jr., Jason Hand, Dana Ledoux ...   \n",
       "3                                        Seth Gordon   \n",
       "4                                      Barry Jenkins   \n",
       "\n",
       "                                            synopsis  rating  \\\n",
       "0  Sonic, Knuckles, and Tails reunite against a p...   7.775   \n",
       "1  Kraven Kravinoff's complex relationship with h...   6.602   \n",
       "2  After receiving an unexpected call from her wa...   7.219   \n",
       "3  Fifteen years after vanishing from the CIA to ...   6.626   \n",
       "4  Mufasa, a cub lost and alone, meets a sympathe...   7.425   \n",
       "\n",
       "   avg_actor_rating  avg_director_rating  \n",
       "0             7.775             7.521667  \n",
       "1             6.602             6.602000  \n",
       "2             7.219             7.219000  \n",
       "3             6.626             6.626000  \n",
       "4             7.425             7.425000  "
      ]
     },
     "execution_count": 14,
     "metadata": {},
     "output_type": "execute_result"
    }
   ],
   "source": [
    "data.head()"
   ]
  },
  {
   "cell_type": "code",
   "execution_count": 15,
   "metadata": {},
   "outputs": [
    {
     "name": "stderr",
     "output_type": "stream",
     "text": [
      "c:\\Users\\KAUSHIK\\OneDrive\\Desktop\\python\\Movie Rating\\venv\\Lib\\site-packages\\huggingface_hub\\file_download.py:140: UserWarning: `huggingface_hub` cache-system uses symlinks by default to efficiently store duplicated files but your machine does not support them in C:\\Users\\KAUSHIK\\.cache\\huggingface\\hub\\models--sentence-transformers--all-miniLM-L6-v2. Caching files will still work but in a degraded version that might require more space on your disk. This warning can be disabled by setting the `HF_HUB_DISABLE_SYMLINKS_WARNING` environment variable. For more details, see https://huggingface.co/docs/huggingface_hub/how-to-cache#limitations.\n",
      "To support symlinks on Windows, you either need to activate Developer Mode or to run Python as an administrator. In order to activate developer mode, see this article: https://docs.microsoft.com/en-us/windows/apps/get-started/enable-your-device-for-development\n",
      "  warnings.warn(message)\n"
     ]
    }
   ],
   "source": [
    "sentence_model = SentenceTransformer(\"all-miniLM-L6-v2\")\n",
    "synopsis_ambeddings = sentence_model.encode(data['synopsis'].tolist())\n",
    "\n",
    "genre_ohe= pd.get_dummies(data['genres'])"
   ]
  },
  {
   "cell_type": "code",
   "execution_count": 16,
   "metadata": {},
   "outputs": [],
   "source": [
    "X = np.hstack((\n",
    "    synopsis_ambeddings,\n",
    "    genre_ohe.values,\n",
    "    data[['avg_actor_rating','avg_director_rating']].values\n",
    "))\n",
    "Y = data['rating']\n",
    "X_train, X_test, Y_train, Y_test = train_test_split(X, Y, test_size=0.2, random_state=42)"
   ]
  },
  {
   "cell_type": "code",
   "execution_count": 17,
   "metadata": {},
   "outputs": [],
   "source": [
    "xgb_model= XGBRegressor(\n",
    "    n_estimators = 300,\n",
    "    learning_rate = 0.03,\n",
    "    max_depth= 7,\n",
    "    subsample=0.8,\n",
    "    colsample_bytree=0.8,\n",
    "    random_state=42\n",
    ")"
   ]
  },
  {
   "cell_type": "code",
   "execution_count": 18,
   "metadata": {},
   "outputs": [],
   "source": [
    "xgb_model.fit(X_train,Y_train)\n",
    "y_pred = xgb_model.predict(X_test)"
   ]
  },
  {
   "cell_type": "code",
   "execution_count": 19,
   "metadata": {},
   "outputs": [
    {
     "name": "stdout",
     "output_type": "stream",
     "text": [
      "r2 score 0.8651\n",
      "Mean Squared Erorr: 0.0992\n"
     ]
    }
   ],
   "source": [
    "r2 = r2_score(Y_test,y_pred)\n",
    "mse = mean_squared_error(Y_test,y_pred)\n",
    "\n",
    "print(f\"r2 score {r2:.4f}\")\n",
    "print(f\"Mean Squared Erorr: {mse:.4f}\")"
   ]
  },
  {
   "cell_type": "code",
   "execution_count": 20,
   "metadata": {},
   "outputs": [],
   "source": [
    "pickle.dump(xgb_model, open(\"movie_rating_model.pkl\",'wb'))\n",
    "pickle.dump(sentence_model, open(\"Sentence_model.pkl\",'wb'))\n",
    "pickle.dump(genre_ohe.columns.to_list(),open(\"genre_columns.pkl\",'wb'))\n",
    "pickle.dump(avg_actor_rating, open(\"avg_actor_rating.pkl\",'wb'))\n",
    "pickle.dump(avg_director_rating, open(\"avg_director_rating.pkl\", 'wb'))"
   ]
  },
  {
   "cell_type": "code",
   "execution_count": null,
   "metadata": {},
   "outputs": [],
   "source": []
  }
 ],
 "metadata": {
  "kernelspec": {
   "display_name": "venv",
   "language": "python",
   "name": "python3"
  },
  "language_info": {
   "codemirror_mode": {
    "name": "ipython",
    "version": 3
   },
   "file_extension": ".py",
   "mimetype": "text/x-python",
   "name": "python",
   "nbconvert_exporter": "python",
   "pygments_lexer": "ipython3",
   "version": "3.11.4"
  }
 },
 "nbformat": 4,
 "nbformat_minor": 2
}
